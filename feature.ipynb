{
 "cells": [
  {
   "cell_type": "code",
   "execution_count": 3,
   "id": "e532c09b",
   "metadata": {},
   "outputs": [],
   "source": [
    "import importlib\n",
    "import lib.init_image_group\n",
    "importlib.reload(lib.init_image_group)\n",
    "from lib.init_image_group import init_semua_png, show_image_group\n",
    "\n",
    "output = 'pernah'\n",
    "image_group = init_semua_png('../UIEB/'+ output)\n",
    "\n",
    "# image_group.head()"
   ]
  },
  {
   "cell_type": "code",
   "execution_count": 4,
   "id": "f31361b9",
   "metadata": {},
   "outputs": [
    {
     "data": {
      "text/html": [
       "<div>\n",
       "<style scoped>\n",
       "    .dataframe tbody tr th:only-of-type {\n",
       "        vertical-align: middle;\n",
       "    }\n",
       "\n",
       "    .dataframe tbody tr th {\n",
       "        vertical-align: top;\n",
       "    }\n",
       "\n",
       "    .dataframe thead th {\n",
       "        text-align: right;\n",
       "    }\n",
       "</style>\n",
       "<table border=\"1\" class=\"dataframe\">\n",
       "  <thead>\n",
       "    <tr style=\"text-align: right;\">\n",
       "      <th></th>\n",
       "      <th>image</th>\n",
       "      <th>label</th>\n",
       "    </tr>\n",
       "  </thead>\n",
       "  <tbody>\n",
       "    <tr>\n",
       "      <th>0</th>\n",
       "      <td>../UIEB/pernah/504_img_.png</td>\n",
       "      <td>504_img_.png</td>\n",
       "    </tr>\n",
       "    <tr>\n",
       "      <th>1</th>\n",
       "      <td>../UIEB/pernah/906_img_.png</td>\n",
       "      <td>906_img_.png</td>\n",
       "    </tr>\n",
       "    <tr>\n",
       "      <th>2</th>\n",
       "      <td>../UIEB/pernah/471_img_.png</td>\n",
       "      <td>471_img_.png</td>\n",
       "    </tr>\n",
       "    <tr>\n",
       "      <th>3</th>\n",
       "      <td>../UIEB/pernah/342_img_.png</td>\n",
       "      <td>342_img_.png</td>\n",
       "    </tr>\n",
       "    <tr>\n",
       "      <th>4</th>\n",
       "      <td>../UIEB/pernah/202_img_.png</td>\n",
       "      <td>202_img_.png</td>\n",
       "    </tr>\n",
       "  </tbody>\n",
       "</table>\n",
       "</div>"
      ],
      "text/plain": [
       "                         image         label\n",
       "0  ../UIEB/pernah/504_img_.png  504_img_.png\n",
       "1  ../UIEB/pernah/906_img_.png  906_img_.png\n",
       "2  ../UIEB/pernah/471_img_.png  471_img_.png\n",
       "3  ../UIEB/pernah/342_img_.png  342_img_.png\n",
       "4  ../UIEB/pernah/202_img_.png  202_img_.png"
      ]
     },
     "execution_count": 4,
     "metadata": {},
     "output_type": "execute_result"
    }
   ],
   "source": [
    "image_group.head()"
   ]
  },
  {
   "cell_type": "code",
   "execution_count": null,
   "id": "1694a058",
   "metadata": {},
   "outputs": [],
   "source": []
  }
 ],
 "metadata": {
  "kernelspec": {
   "display_name": "base",
   "language": "python",
   "name": "python3"
  },
  "language_info": {
   "codemirror_mode": {
    "name": "ipython",
    "version": 3
   },
   "file_extension": ".py",
   "mimetype": "text/x-python",
   "name": "python",
   "nbconvert_exporter": "python",
   "pygments_lexer": "ipython3",
   "version": "3.11.7"
  }
 },
 "nbformat": 4,
 "nbformat_minor": 5
}
