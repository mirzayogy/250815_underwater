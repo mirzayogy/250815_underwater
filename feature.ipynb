{
 "cells": [
  {
   "cell_type": "code",
   "execution_count": 6,
   "id": "e532c09b",
   "metadata": {},
   "outputs": [],
   "source": [
    "import importlib\n"
   ]
  },
  {
   "cell_type": "code",
   "execution_count": 7,
   "id": "23a095aa",
   "metadata": {},
   "outputs": [],
   "source": [
    "import lib.init_image_group\n",
    "importlib.reload(lib.init_image_group)\n",
    "from lib.init_image_group import init_semua_png, show_image_group\n",
    "\n",
    "output = 'pernah'\n",
    "image_group = init_semua_png('../UIEB/'+ output)\n",
    "\n",
    "# image_group.head()"
   ]
  },
  {
   "cell_type": "code",
   "execution_count": 8,
   "id": "f31361b9",
   "metadata": {},
   "outputs": [
    {
     "data": {
      "text/plain": [
       "'504_img_.png'"
      ]
     },
     "execution_count": 8,
     "metadata": {},
     "output_type": "execute_result"
    }
   ],
   "source": [
    "# image_group.head()\n",
    "image_group[\"label\"][0]"
   ]
  },
  {
   "cell_type": "code",
   "execution_count": 9,
   "id": "1694a058",
   "metadata": {},
   "outputs": [
    {
     "ename": "ModuleNotFoundError",
     "evalue": "No module named 'torch'",
     "output_type": "error",
     "traceback": [
      "\u001b[0;31m---------------------------------------------------------------------------\u001b[0m",
      "\u001b[0;31mModuleNotFoundError\u001b[0m                       Traceback (most recent call last)",
      "Cell \u001b[0;32mIn[9], line 1\u001b[0m\n\u001b[0;32m----> 1\u001b[0m \u001b[38;5;28;01mimport\u001b[39;00m \u001b[38;5;21;01mlib\u001b[39;00m\u001b[38;5;21;01m.\u001b[39;00m\u001b[38;5;21;01mcolor_space_feature\u001b[39;00m\n\u001b[1;32m      2\u001b[0m importlib\u001b[38;5;241m.\u001b[39mreload(lib\u001b[38;5;241m.\u001b[39mcolor_space_feature)\n\u001b[1;32m      3\u001b[0m \u001b[38;5;28;01mfrom\u001b[39;00m \u001b[38;5;21;01mlib\u001b[39;00m\u001b[38;5;21;01m.\u001b[39;00m\u001b[38;5;21;01mcolor_space_feature\u001b[39;00m \u001b[38;5;28;01mimport\u001b[39;00m extract_color_stats_cuda\n",
      "File \u001b[0;32m~/JupyterProjects/250815_underwater/lib/color_space_feature.py:1\u001b[0m\n\u001b[0;32m----> 1\u001b[0m \u001b[38;5;28;01mimport\u001b[39;00m \u001b[38;5;21;01mtorch\u001b[39;00m \u001b[38;5;66;03m# type: ignore\u001b[39;00m\n\u001b[1;32m      2\u001b[0m \u001b[38;5;28;01mimport\u001b[39;00m \u001b[38;5;21;01mnumpy\u001b[39;00m \u001b[38;5;28;01mas\u001b[39;00m \u001b[38;5;21;01mnp\u001b[39;00m \u001b[38;5;66;03m# type: ignore\u001b[39;00m\n\u001b[1;32m      3\u001b[0m \u001b[38;5;28;01mfrom\u001b[39;00m \u001b[38;5;21;01mPIL\u001b[39;00m \u001b[38;5;28;01mimport\u001b[39;00m Image \u001b[38;5;66;03m# type: ignore\u001b[39;00m\n",
      "\u001b[0;31mModuleNotFoundError\u001b[0m: No module named 'torch'"
     ]
    }
   ],
   "source": [
    "import lib.color_space_feature\n",
    "importlib.reload(lib.color_space_feature)\n",
    "from lib.color_space_feature import extract_color_stats_cuda\n",
    "stats = extract_color_stats_cuda(image_group[\"label\"][0])"
   ]
  }
 ],
 "metadata": {
  "kernelspec": {
   "display_name": "base",
   "language": "python",
   "name": "python3"
  },
  "language_info": {
   "codemirror_mode": {
    "name": "ipython",
    "version": 3
   },
   "file_extension": ".py",
   "mimetype": "text/x-python",
   "name": "python",
   "nbconvert_exporter": "python",
   "pygments_lexer": "ipython3",
   "version": "3.11.7"
  }
 },
 "nbformat": 4,
 "nbformat_minor": 5
}
