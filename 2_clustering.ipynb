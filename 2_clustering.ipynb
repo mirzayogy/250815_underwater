{
 "cells": [
  {
   "cell_type": "code",
   "execution_count": 1,
   "id": "3ef66772",
   "metadata": {},
   "outputs": [],
   "source": [
    "import importlib\n"
   ]
  },
  {
   "cell_type": "code",
   "execution_count": 3,
   "id": "ff2ca4c6",
   "metadata": {},
   "outputs": [],
   "source": [
    "import pandas as pd\n",
    "\n",
    "# Membaca file CSV dan mengubahnya menjadi DataFrame\n",
    "df = pd.read_csv(\"csv/feature_color_space_pilihan_kecil.csv\")\n",
    "\n",
    "# Menampilkan 5 baris pertama\n",
    "# print(df.head())"
   ]
  },
  {
   "cell_type": "code",
   "execution_count": 16,
   "id": "034db88b",
   "metadata": {},
   "outputs": [
    {
     "name": "stdout",
     "output_type": "stream",
     "text": [
      "cluster_kmeans\n",
      "2    22\n",
      "1    15\n",
      "0    13\n",
      "Name: count, dtype: int64\n",
      "Inertia (SSE): 817.5921674178567\n",
      "Centroids shape: (3, 24)\n"
     ]
    },
    {
     "name": "stderr",
     "output_type": "stream",
     "text": [
      "c:\\ProgramData\\anaconda3\\Lib\\site-packages\\sklearn\\cluster\\_kmeans.py:1419: UserWarning: KMeans is known to have a memory leak on Windows with MKL, when there are less chunks than available threads. You can avoid it by setting the environment variable OMP_NUM_THREADS=1.\n",
      "  warnings.warn(\n"
     ]
    }
   ],
   "source": [
    "import lib.dm_clustering\n",
    "importlib.reload(lib.dm_clustering)\n",
    "from lib.dm_clustering import kmeans_from_df\n",
    "\n",
    "# Misal df sudah ada\n",
    "labels, km, X_used, cols = kmeans_from_df(df, n_clusters=3, standardize=True, max_iter=1000)\n",
    "\n",
    "# Tambahkan label ke df asli (untuk baris yang tidak NaN pada fitur terpakai)\n",
    "df_clean = df.dropna(subset=cols).copy()\n",
    "df_clean[\"cluster_kmeans\"] = labels\n",
    "\n",
    "# Lihat ringkasannya\n",
    "print(df_clean[\"cluster_kmeans\"].value_counts())\n",
    "print(\"Inertia (SSE):\", km.inertia_)\n",
    "print(\"Centroids shape:\", km.cluster_centers_.shape)\n"
   ]
  },
  {
   "cell_type": "code",
   "execution_count": 17,
   "id": "418e7f23",
   "metadata": {},
   "outputs": [
    {
     "name": "stdout",
     "output_type": "stream",
     "text": [
      "Silhouette score: 0.19970632111764586\n"
     ]
    }
   ],
   "source": [
    "from sklearn.metrics import silhouette_score\n",
    "\n",
    "# Hitung hanya jika label > 1 klaster dan tiap klaster punya anggota\n",
    "if len(set(labels)) > 1:\n",
    "    sil = silhouette_score(X_used, labels)\n",
    "    print(\"Silhouette score:\", sil)\n"
   ]
  },
  {
   "cell_type": "code",
   "execution_count": 19,
   "id": "55c0d628",
   "metadata": {},
   "outputs": [],
   "source": [
    "df_clean.to_csv(\"hasil_kmeans.csv\", index=False)\n"
   ]
  }
 ],
 "metadata": {
  "kernelspec": {
   "display_name": "base",
   "language": "python",
   "name": "python3"
  },
  "language_info": {
   "codemirror_mode": {
    "name": "ipython",
    "version": 3
   },
   "file_extension": ".py",
   "mimetype": "text/x-python",
   "name": "python",
   "nbconvert_exporter": "python",
   "pygments_lexer": "ipython3",
   "version": "3.13.5"
  }
 },
 "nbformat": 4,
 "nbformat_minor": 5
}
